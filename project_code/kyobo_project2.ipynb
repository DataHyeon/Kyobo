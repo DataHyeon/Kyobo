{
 "cells": [
  {
   "cell_type": "code",
   "execution_count": 1,
   "id": "8d924751",
   "metadata": {},
   "outputs": [],
   "source": [
    "import pandas as pd\n",
    "import numpy as np\n",
    "import matplotlib.pyplot as plt\n",
    "import re\n",
    "import json\n",
    "import os\n",
    "import tqdm\n",
    "import dataframe_image as dfi\n",
    "\n",
    "import warnings\n",
    "warnings.filterwarnings(action='ignore')\n",
    "\n",
    "from konlpy.tag import Okt\n",
    "\n",
    "import sklearn\n",
    "from sklearn.preprocessing import LabelEncoder\n",
    "from sklearn.model_selection import train_test_split\n",
    "\n",
    "from sklearn.metrics import log_loss, accuracy_score,f1_score\n",
    "import tensorflow as tf\n",
    "from tensorflow.keras.preprocessing.sequence import pad_sequences\n",
    "from tensorflow.keras.preprocessing.text import Tokenizer\n",
    "from tensorflow.keras.callbacks import EarlyStopping, ModelCheckpoint\n",
    "from transformers import *"
   ]
  },
  {
   "cell_type": "code",
   "execution_count": 2,
   "id": "30fdc4a0",
   "metadata": {},
   "outputs": [
    {
     "name": "stdout",
     "output_type": "stream",
     "text": [
      "<class 'pandas.core.frame.DataFrame'>\n",
      "RangeIndex: 10000 entries, 0 to 9999\n",
      "Data columns (total 4 columns):\n",
      " #   Column            Non-Null Count  Dtype \n",
      "---  ------            --------------  ----- \n",
      " 0   saleCmdtId        10000 non-null  object\n",
      " 1   cmdtName          10000 non-null  object\n",
      " 2   inbukCntt         9726 non-null   object\n",
      " 3   saleCmdtClstName  10000 non-null  object\n",
      "dtypes: object(4)\n",
      "memory usage: 312.6+ KB\n"
     ]
    }
   ],
   "source": [
    "raw = pd.read_csv('../kyobo2.csv')\n",
    "raw.info()"
   ]
  },
  {
   "cell_type": "code",
   "execution_count": 3,
   "id": "e15217eb",
   "metadata": {},
   "outputs": [
    {
     "data": {
      "text/html": [
       "<div>\n",
       "<style scoped>\n",
       "    .dataframe tbody tr th:only-of-type {\n",
       "        vertical-align: middle;\n",
       "    }\n",
       "\n",
       "    .dataframe tbody tr th {\n",
       "        vertical-align: top;\n",
       "    }\n",
       "\n",
       "    .dataframe thead th {\n",
       "        text-align: right;\n",
       "    }\n",
       "</style>\n",
       "<table border=\"1\" class=\"dataframe\">\n",
       "  <thead>\n",
       "    <tr style=\"text-align: right;\">\n",
       "      <th></th>\n",
       "      <th>saleCmdtId</th>\n",
       "      <th>cmdtName</th>\n",
       "      <th>inbukCntt</th>\n",
       "      <th>saleCmdtClstName</th>\n",
       "    </tr>\n",
       "  </thead>\n",
       "  <tbody>\n",
       "    <tr>\n",
       "      <th>0</th>\n",
       "      <td>S000001803157</td>\n",
       "      <td>불편한 편의점(40만부 기념 벚꽃 에디션)</td>\n",
       "      <td>누적 판매 40만부 돌파, 2022년 가장 사랑받는 소설\\n★★★전 서점 종합베스트...</td>\n",
       "      <td>소설</td>\n",
       "    </tr>\n",
       "    <tr>\n",
       "      <th>1</th>\n",
       "      <td>S000061694154</td>\n",
       "      <td>아버지의 해방일지</td>\n",
       "      <td>김유정문학상 심훈문학대상 이효석문학상 등을 수상하며 문학성을 두루 입증받은 ‘리얼리...</td>\n",
       "      <td>소설</td>\n",
       "    </tr>\n",
       "    <tr>\n",
       "      <th>2</th>\n",
       "      <td>S000061532631</td>\n",
       "      <td>불편한 편의점 2(단풍 에디션)</td>\n",
       "      <td>출간 후 1년이 넘도록 독자의 사랑을 받으며 베스트셀러 상위권을 지키고 있는 소설,...</td>\n",
       "      <td>소설</td>\n",
       "    </tr>\n",
       "    <tr>\n",
       "      <th>3</th>\n",
       "      <td>S000061896378</td>\n",
       "      <td>이토록 평범한 미래</td>\n",
       "      <td>작가 김연수가 짧지 않은 침묵을 깨고 신작 소설집 『이토록 평범한 미래』를 출간한다...</td>\n",
       "      <td>소설</td>\n",
       "    </tr>\n",
       "    <tr>\n",
       "      <th>4</th>\n",
       "      <td>S000001947482</td>\n",
       "      <td>오늘 밤, 세계에서 이 사랑이 사라진다 해도</td>\n",
       "      <td>“머리가 아플 정도로 펑펑 울고 말았다.\\n반드시, 반드시 읽어야 할 작품이다.” ...</td>\n",
       "      <td>소설</td>\n",
       "    </tr>\n",
       "  </tbody>\n",
       "</table>\n",
       "</div>"
      ],
      "text/plain": [
       "      saleCmdtId                  cmdtName  \\\n",
       "0  S000001803157   불편한 편의점(40만부 기념 벚꽃 에디션)   \n",
       "1  S000061694154                 아버지의 해방일지   \n",
       "2  S000061532631         불편한 편의점 2(단풍 에디션)   \n",
       "3  S000061896378                이토록 평범한 미래   \n",
       "4  S000001947482  오늘 밤, 세계에서 이 사랑이 사라진다 해도   \n",
       "\n",
       "                                           inbukCntt saleCmdtClstName  \n",
       "0  누적 판매 40만부 돌파, 2022년 가장 사랑받는 소설\\n★★★전 서점 종합베스트...               소설  \n",
       "1  김유정문학상 심훈문학대상 이효석문학상 등을 수상하며 문학성을 두루 입증받은 ‘리얼리...               소설  \n",
       "2  출간 후 1년이 넘도록 독자의 사랑을 받으며 베스트셀러 상위권을 지키고 있는 소설,...               소설  \n",
       "3  작가 김연수가 짧지 않은 침묵을 깨고 신작 소설집 『이토록 평범한 미래』를 출간한다...               소설  \n",
       "4  “머리가 아플 정도로 펑펑 울고 말았다.\\n반드시, 반드시 읽어야 할 작품이다.” ...               소설  "
      ]
     },
     "execution_count": 3,
     "metadata": {},
     "output_type": "execute_result"
    }
   ],
   "source": [
    "raw.head(5)"
   ]
  },
  {
   "cell_type": "code",
   "execution_count": 4,
   "id": "5a10d197",
   "metadata": {},
   "outputs": [],
   "source": [
    "raw.fillna('NAN', inplace=True)"
   ]
  },
  {
   "cell_type": "code",
   "execution_count": 5,
   "id": "04ac0dce",
   "metadata": {},
   "outputs": [
    {
     "data": {
      "text/html": [
       "<div>\n",
       "<style scoped>\n",
       "    .dataframe tbody tr th:only-of-type {\n",
       "        vertical-align: middle;\n",
       "    }\n",
       "\n",
       "    .dataframe tbody tr th {\n",
       "        vertical-align: top;\n",
       "    }\n",
       "\n",
       "    .dataframe thead th {\n",
       "        text-align: right;\n",
       "    }\n",
       "</style>\n",
       "<table border=\"1\" class=\"dataframe\">\n",
       "  <thead>\n",
       "    <tr style=\"text-align: right;\">\n",
       "      <th></th>\n",
       "      <th>0</th>\n",
       "    </tr>\n",
       "  </thead>\n",
       "  <tbody>\n",
       "    <tr>\n",
       "      <th>saleCmdtId</th>\n",
       "      <td>S000001803157</td>\n",
       "    </tr>\n",
       "    <tr>\n",
       "      <th>cmdtName</th>\n",
       "      <td>불편한 편의점(40만부 기념 벚꽃 에디션)</td>\n",
       "    </tr>\n",
       "    <tr>\n",
       "      <th>inbukCntt</th>\n",
       "      <td>누적 판매 40만부 돌파, 2022년 가장 사랑받는 소설\\n★★★전 서점 종합베스트...</td>\n",
       "    </tr>\n",
       "    <tr>\n",
       "      <th>saleCmdtClstName</th>\n",
       "      <td>1</td>\n",
       "    </tr>\n",
       "  </tbody>\n",
       "</table>\n",
       "</div>"
      ],
      "text/plain": [
       "                                                                  0\n",
       "saleCmdtId                                            S000001803157\n",
       "cmdtName                                    불편한 편의점(40만부 기념 벚꽃 에디션)\n",
       "inbukCntt         누적 판매 40만부 돌파, 2022년 가장 사랑받는 소설\\n★★★전 서점 종합베스트...\n",
       "saleCmdtClstName                                                  1"
      ]
     },
     "execution_count": 5,
     "metadata": {},
     "output_type": "execute_result"
    }
   ],
   "source": [
    "le = LabelEncoder()\n",
    "\n",
    "raw.iloc[:,-1] = le.fit_transform(raw.iloc[:,-1])\n",
    "\n",
    "raw.head(1).T"
   ]
  },
  {
   "cell_type": "code",
   "execution_count": 6,
   "id": "2b9033f1",
   "metadata": {},
   "outputs": [
    {
     "name": "stdout",
     "output_type": "stream",
     "text": [
      "0 경제/경영\n",
      "1200\n",
      "1 소설\n",
      "4400\n",
      "2 어린이(초등)\n",
      "1900\n",
      "3 인문\n",
      "1100\n",
      "4 자기계발\n",
      "1400\n"
     ]
    }
   ],
   "source": [
    "for i, label in enumerate(le.classes_):\n",
    "    print(i, label)\n",
    "    print(len(raw[raw['saleCmdtClstName']==i]))"
   ]
  },
  {
   "cell_type": "code",
   "execution_count": 7,
   "id": "b7508429",
   "metadata": {},
   "outputs": [],
   "source": [
    "X = raw.iloc[:,1:-1]\n",
    "y = raw.iloc[:,-1]"
   ]
  },
  {
   "cell_type": "code",
   "execution_count": 8,
   "id": "ba3be830",
   "metadata": {},
   "outputs": [],
   "source": [
    "X_train, X_test, y_train, y_test = train_test_split(X, y ,\n",
    "                                                   test_size=0.2,\n",
    "                                                   random_state=2022)"
   ]
  },
  {
   "cell_type": "code",
   "execution_count": 9,
   "id": "f8469f44",
   "metadata": {},
   "outputs": [
    {
     "data": {
      "text/html": [
       "<div>\n",
       "<style scoped>\n",
       "    .dataframe tbody tr th:only-of-type {\n",
       "        vertical-align: middle;\n",
       "    }\n",
       "\n",
       "    .dataframe tbody tr th {\n",
       "        vertical-align: top;\n",
       "    }\n",
       "\n",
       "    .dataframe thead th {\n",
       "        text-align: right;\n",
       "    }\n",
       "</style>\n",
       "<table border=\"1\" class=\"dataframe\">\n",
       "  <thead>\n",
       "    <tr style=\"text-align: right;\">\n",
       "      <th></th>\n",
       "      <th>cmdtName</th>\n",
       "      <th>inbukCntt</th>\n",
       "    </tr>\n",
       "  </thead>\n",
       "  <tbody>\n",
       "    <tr>\n",
       "      <th>5516</th>\n",
       "      <td>마인크래프트 전투 핸드북</td>\n",
       "      <td>마인크래프트는 여러 가지 블록으로 이루어진 자원을 이용해 멋진 건축물을 만들거나, ...</td>\n",
       "    </tr>\n",
       "  </tbody>\n",
       "</table>\n",
       "</div>"
      ],
      "text/plain": [
       "           cmdtName                                          inbukCntt\n",
       "5516  마인크래프트 전투 핸드북  마인크래프트는 여러 가지 블록으로 이루어진 자원을 이용해 멋진 건축물을 만들거나, ..."
      ]
     },
     "execution_count": 9,
     "metadata": {},
     "output_type": "execute_result"
    }
   ],
   "source": [
    "X_train.head(1)"
   ]
  },
  {
   "cell_type": "code",
   "execution_count": 10,
   "id": "fb531498",
   "metadata": {},
   "outputs": [],
   "source": [
    "X_train['data'] = X_train['cmdtName'] + X_train['inbukCntt']\n",
    "X_test['data'] = X_test['cmdtName'] + X_test['inbukCntt']"
   ]
  },
  {
   "cell_type": "code",
   "execution_count": 11,
   "id": "7031c50a",
   "metadata": {},
   "outputs": [
    {
     "name": "stdout",
     "output_type": "stream",
     "text": [
      "(8000, 3)\n",
      "(2000, 3)\n"
     ]
    }
   ],
   "source": [
    "print(X_train.shape)\n",
    "print(X_test.shape)"
   ]
  },
  {
   "cell_type": "code",
   "execution_count": 12,
   "id": "b596a9c7",
   "metadata": {},
   "outputs": [
    {
     "data": {
      "text/html": [
       "<div>\n",
       "<style scoped>\n",
       "    .dataframe tbody tr th:only-of-type {\n",
       "        vertical-align: middle;\n",
       "    }\n",
       "\n",
       "    .dataframe tbody tr th {\n",
       "        vertical-align: top;\n",
       "    }\n",
       "\n",
       "    .dataframe thead th {\n",
       "        text-align: right;\n",
       "    }\n",
       "</style>\n",
       "<table border=\"1\" class=\"dataframe\">\n",
       "  <thead>\n",
       "    <tr style=\"text-align: right;\">\n",
       "      <th></th>\n",
       "      <th>cmdtName</th>\n",
       "      <th>inbukCntt</th>\n",
       "      <th>data</th>\n",
       "    </tr>\n",
       "  </thead>\n",
       "  <tbody>\n",
       "    <tr>\n",
       "      <th>5516</th>\n",
       "      <td>마인크래프트 전투 핸드북</td>\n",
       "      <td>마인크래프트는 여러 가지 블록으로 이루어진 자원을 이용해 멋진 건축물을 만들거나, ...</td>\n",
       "      <td>마인크래프트 전투 핸드북마인크래프트는 여러 가지 블록으로 이루어진 자원을 이용해 멋...</td>\n",
       "    </tr>\n",
       "    <tr>\n",
       "      <th>1255</th>\n",
       "      <td>기억 서점</td>\n",
       "      <td>대학교수이자 문학박사, 고서적 수집가로 왕성한 활동을 하고 있는 유명우 교수는 지나...</td>\n",
       "      <td>기억 서점대학교수이자 문학박사, 고서적 수집가로 왕성한 활동을 하고 있는 유명우 교...</td>\n",
       "    </tr>\n",
       "    <tr>\n",
       "      <th>4319</th>\n",
       "      <td>오만과 편견 3(미니북)(초판본)(1894년 오리지널 초판본 표지디자인)</td>\n",
       "      <td>베넷 가 다섯 자매의 첫째 딸인 제인은 온순하고 순진했다. 둘째 딸인 엘리자베스는 ...</td>\n",
       "      <td>오만과 편견 3(미니북)(초판본)(1894년 오리지널 초판본 표지디자인)베넷 가 다...</td>\n",
       "    </tr>\n",
       "  </tbody>\n",
       "</table>\n",
       "</div>"
      ],
      "text/plain": [
       "                                      cmdtName  \\\n",
       "5516                             마인크래프트 전투 핸드북   \n",
       "1255                                     기억 서점   \n",
       "4319  오만과 편견 3(미니북)(초판본)(1894년 오리지널 초판본 표지디자인)   \n",
       "\n",
       "                                              inbukCntt  \\\n",
       "5516  마인크래프트는 여러 가지 블록으로 이루어진 자원을 이용해 멋진 건축물을 만들거나, ...   \n",
       "1255  대학교수이자 문학박사, 고서적 수집가로 왕성한 활동을 하고 있는 유명우 교수는 지나...   \n",
       "4319  베넷 가 다섯 자매의 첫째 딸인 제인은 온순하고 순진했다. 둘째 딸인 엘리자베스는 ...   \n",
       "\n",
       "                                                   data  \n",
       "5516  마인크래프트 전투 핸드북마인크래프트는 여러 가지 블록으로 이루어진 자원을 이용해 멋...  \n",
       "1255  기억 서점대학교수이자 문학박사, 고서적 수집가로 왕성한 활동을 하고 있는 유명우 교...  \n",
       "4319  오만과 편견 3(미니북)(초판본)(1894년 오리지널 초판본 표지디자인)베넷 가 다...  "
      ]
     },
     "execution_count": 12,
     "metadata": {},
     "output_type": "execute_result"
    }
   ],
   "source": [
    "X_train.head(3)"
   ]
  },
  {
   "cell_type": "code",
   "execution_count": 13,
   "id": "989d58fd",
   "metadata": {},
   "outputs": [],
   "source": [
    "X_train['data'] = X_train['data'].apply(lambda x : re.sub(\"[^가-힣ㄱ-하-ㅣ\\s]\",\"\",x))\n",
    "X_train['data'] = X_train['data'].apply(lambda x : re.sub(\"\\n\",\" \",x))\n",
    "\n",
    "X_test['data'] = X_test['data'].apply(lambda x : re.sub(\"[^가-힣ㄱ-하-ㅣ\\s]\",\"\",x))\n",
    "X_test['data'] = X_test['data'].apply(lambda x : re.sub(\"\\n\",\" \",x))"
   ]
  },
  {
   "cell_type": "code",
   "execution_count": 14,
   "id": "591f5a25",
   "metadata": {},
   "outputs": [],
   "source": [
    "def get_num_words_per_sample(sample_texts):\n",
    "    num_words = [len(s.split()) for s in sample_texts]\n",
    "    return np.median(num_words)\n",
    "\n",
    "def plot_sample_length_distribution(sample_texts):\n",
    "    plt.hist([len(s) for s in sample_texts], 50)\n",
    "    plt.xlabel('Length of a sample')\n",
    "    plt.ylabel('Number of samples')\n",
    "    plt.title('Sample length distribution')\n",
    "    plt.show()"
   ]
  },
  {
   "cell_type": "code",
   "execution_count": 15,
   "id": "c1537948",
   "metadata": {},
   "outputs": [
    {
     "data": {
      "text/plain": [
       "122.0"
      ]
     },
     "execution_count": 15,
     "metadata": {},
     "output_type": "execute_result"
    }
   ],
   "source": [
    "get_num_words_per_sample(X_train['data'])"
   ]
  },
  {
   "cell_type": "code",
   "execution_count": 16,
   "id": "842d1959",
   "metadata": {},
   "outputs": [
    {
     "data": {
      "image/png": "[encoded data removed]",
      "text/plain": [
       "<Figure size 640x480 with 1 Axes>"
      ]
     },
     "metadata": {},
     "output_type": "display_data"
    }
   ],
   "source": [
    "plot_sample_length_distribution(X_train['data'])"
   ]
  },
  {
   "cell_type": "code",
   "execution_count": 17,
   "id": "222e49e3",
   "metadata": {},
   "outputs": [],
   "source": [
    "from sklearn.feature_extraction.text import TfidfVectorizer\n",
    "from sklearn.feature_selection import SelectKBest, f_classif"
   ]
  },
  {
   "cell_type": "code",
   "execution_count": 18,
   "id": "797830cc",
   "metadata": {},
   "outputs": [],
   "source": [
    "Ngram_range = (1,2)\n",
    "top_k = 50000\n",
    "token_mode = 'word'\n",
    "min_document_freq = 2"
   ]
  },
  {
   "cell_type": "code",
   "execution_count": 19,
   "id": "69d001ce",
   "metadata": {},
   "outputs": [],
   "source": [
    "def train_ngram_vectorize():\n",
    "    kwargs = {\n",
    "        'ngram_range' : Ngram_range,\n",
    "        'dtype' : 'int32',\n",
    "        'strip_accents' : False,\n",
    "        'lowercase' : False,\n",
    "        'decode_error' : 'replace',\n",
    "        'analyzer' : token_mode,\n",
    "        'min_df' : min_document_freq,\n",
    "        \n",
    "    }\n",
    "    \n",
    "    vectorizer = TfidfVectorizer(**kwargs)\n",
    "    \n",
    "    x_train = vectorizer.fit_transform(X_train['data'])\n",
    "    x_test = vectorizer.transform(X_test['data'])\n",
    "    \n",
    "    selector = SelectKBest(f_classif, k=min(top_k, x_train.shape[1]))\n",
    "    selector.fit(x_train, y_train.values)\n",
    "    \n",
    "    x_train = selector.transform(x_train).astype('float32')\n",
    "    x_test = selector.transform(x_test).astype('float32')\n",
    "    \n",
    "    return x_train, x_test"
   ]
  },
  {
   "cell_type": "code",
   "execution_count": 20,
   "id": "13aeecf3",
   "metadata": {},
   "outputs": [],
   "source": [
    "x_train, x_test = train_ngram_vectorize()"
   ]
  },
  {
   "cell_type": "code",
   "execution_count": 21,
   "id": "4e3cd533",
   "metadata": {},
   "outputs": [],
   "source": [
    "import tensorflow as tf\n",
    "from tensorflow.keras.layers import *\n",
    "from tensorflow.keras.models import *\n",
    "from tensorflow.keras.optimizers import Adam\n",
    "os.environ[\"CUDA_VISIBLE_DEVICES\"]=\"0\""
   ]
  },
  {
   "cell_type": "code",
   "execution_count": 22,
   "id": "b77d3f02",
   "metadata": {},
   "outputs": [],
   "source": [
    "def single_dense(x,units):\n",
    "    fc = Dense(units, activation = None)(x)\n",
    "    batch = BatchNormalization()(fc)\n",
    "    relu = ReLU()(batch)\n",
    "    dr = Dropout(0.2)(relu)\n",
    "    \n",
    "    return dr\n",
    "\n",
    "\n",
    "def create_model(input_shape, num_labels, learning_rate):\n",
    "    x_in = tf.keras.Input(shape=(input_shape,))\n",
    "    fc = single_dense(x_in, 256)\n",
    "    fc = single_dense(fc, 128)\n",
    "    fc = single_dense(fc, 64)\n",
    "    \n",
    "    x_out = Dense(num_labels, activation = 'softmax')(fc)\n",
    "    \n",
    "    model = Model(x_in, x_out)\n",
    "    optimizer = Adam(learning_rate=learning_rate)\n",
    "    model.compile(optimizer = optimizer, loss='sparse_categorical_crossentropy', metrics = ['acc'])\n",
    "    \n",
    "    return model"
   ]
  },
  {
   "cell_type": "code",
   "execution_count": 23,
   "id": "e82bb7a9",
   "metadata": {
    "scrolled": true
   },
   "outputs": [
    {
     "name": "stdout",
     "output_type": "stream",
     "text": [
      "Epoch 1/300\n",
      "8/8 [==============================] - 6s 408ms/step - loss: 1.2244 - acc: 0.5512\n",
      "Epoch 2/300\n",
      "8/8 [==============================] - 3s 403ms/step - loss: 0.4898 - acc: 0.8806\n",
      "Epoch 3/300\n",
      "8/8 [==============================] - 3s 380ms/step - loss: 0.2736 - acc: 0.9526\n",
      "Epoch 4/300\n",
      "8/8 [==============================] - 3s 381ms/step - loss: 0.1694 - acc: 0.9735\n",
      "Epoch 5/300\n",
      "8/8 [==============================] - 3s 366ms/step - loss: 0.1163 - acc: 0.9824\n",
      "Epoch 6/300\n",
      "8/8 [==============================] - 3s 360ms/step - loss: 0.0875 - acc: 0.9845\n",
      "Epoch 7/300\n",
      "8/8 [==============================] - 3s 366ms/step - loss: 0.0719 - acc: 0.9876\n",
      "Epoch 8/300\n",
      "8/8 [==============================] - 3s 360ms/step - loss: 0.0622 - acc: 0.9883\n",
      "Epoch 9/300\n",
      "8/8 [==============================] - 3s 381ms/step - loss: 0.0550 - acc: 0.9874\n",
      "Epoch 10/300\n",
      "8/8 [==============================] - 3s 381ms/step - loss: 0.0516 - acc: 0.9876\n",
      "Epoch 11/300\n",
      "8/8 [==============================] - 3s 395ms/step - loss: 0.0484 - acc: 0.9883\n",
      "Epoch 12/300\n",
      "8/8 [==============================] - 3s 378ms/step - loss: 0.0437 - acc: 0.9887\n",
      "Epoch 13/300\n",
      "8/8 [==============================] - 3s 371ms/step - loss: 0.0437 - acc: 0.9872\n",
      "Epoch 14/300\n",
      "8/8 [==============================] - 3s 390ms/step - loss: 0.0407 - acc: 0.9880\n",
      "Epoch 15/300\n",
      "8/8 [==============================] - 3s 384ms/step - loss: 0.0403 - acc: 0.9884\n",
      "Epoch 16/300\n",
      "8/8 [==============================] - 3s 382ms/step - loss: 0.0422 - acc: 0.9869\n",
      "Epoch 17/300\n",
      "8/8 [==============================] - 3s 384ms/step - loss: 0.0392 - acc: 0.9890\n",
      "Epoch 18/300\n",
      "8/8 [==============================] - 3s 390ms/step - loss: 0.0375 - acc: 0.9891\n",
      "Epoch 19/300\n",
      "8/8 [==============================] - 3s 374ms/step - loss: 0.0372 - acc: 0.9883\n",
      "Epoch 20/300\n",
      "8/8 [==============================] - 3s 389ms/step - loss: 0.0366 - acc: 0.9890\n",
      "Epoch 21/300\n",
      "8/8 [==============================] - 3s 388ms/step - loss: 0.0335 - acc: 0.9895\n",
      "Epoch 22/300\n",
      "8/8 [==============================] - 3s 381ms/step - loss: 0.0355 - acc: 0.9875\n",
      "Epoch 23/300\n",
      "8/8 [==============================] - 3s 379ms/step - loss: 0.0349 - acc: 0.9874\n",
      "Epoch 24/300\n",
      "8/8 [==============================] - 3s 395ms/step - loss: 0.0336 - acc: 0.9874\n"
     ]
    }
   ],
   "source": [
    "basic_callbacks = [\n",
    "    tf.keras.callbacks.EarlyStopping(monitor='loss', patience=3)\n",
    "            ]\n",
    "basic_model = create_model(x_train.shape[1], 5, 1e-3)\n",
    "bsic_history = basic_model.fit(x_train.toarray(),\n",
    "                   y_train,\n",
    "                   epochs=300,\n",
    "                   callbacks=basic_callbacks,\n",
    "                   verbose=1,\n",
    "                   batch_size=1024)\n"
   ]
  },
  {
   "cell_type": "code",
   "execution_count": 24,
   "id": "5d22e051",
   "metadata": {},
   "outputs": [
    {
     "name": "stdout",
     "output_type": "stream",
     "text": [
      "63/63 [==============================] - 1s 12ms/step\n"
     ]
    }
   ],
   "source": [
    "basic_prediction = basic_model.predict(x_test.toarray())"
   ]
  },
  {
   "cell_type": "code",
   "execution_count": 27,
   "id": "43cec959",
   "metadata": {},
   "outputs": [],
   "source": [
    "basic_pred = np.argmax(basic_prediction,axis =1)"
   ]
  },
  {
   "cell_type": "code",
   "execution_count": 28,
   "id": "49ce0cf4",
   "metadata": {},
   "outputs": [
    {
     "data": {
      "text/plain": [
       "0.4305"
      ]
     },
     "execution_count": 28,
     "metadata": {},
     "output_type": "execute_result"
    }
   ],
   "source": [
    "r_a = (basic_pred == y_test).mean()\n",
    "r_a"
   ]
  },
  {
   "cell_type": "code",
   "execution_count": 29,
   "id": "48e3b74a",
   "metadata": {},
   "outputs": [
    {
     "name": "stdout",
     "output_type": "stream",
     "text": [
      "Epoch 1/300\n",
      "11/11 [==============================] - 5s 323ms/step - loss: 1.1780 - acc: 0.5734 - val_loss: 1.5746 - val_acc: 0.5131\n",
      "Epoch 2/300\n",
      "11/11 [==============================] - 3s 293ms/step - loss: 0.4347 - acc: 0.9076 - val_loss: 1.4861 - val_acc: 0.4881\n",
      "Epoch 3/300\n",
      "11/11 [==============================] - 3s 289ms/step - loss: 0.2224 - acc: 0.9672 - val_loss: 1.3865 - val_acc: 0.4714\n",
      "Epoch 4/300\n",
      "11/11 [==============================] - 3s 311ms/step - loss: 0.1334 - acc: 0.9840 - val_loss: 1.3053 - val_acc: 0.4585\n",
      "Epoch 5/300\n",
      "11/11 [==============================] - 3s 296ms/step - loss: 0.0879 - acc: 0.9882 - val_loss: 1.2500 - val_acc: 0.4529\n",
      "Epoch 6/300\n",
      "11/11 [==============================] - 3s 291ms/step - loss: 0.0658 - acc: 0.9899 - val_loss: 1.2195 - val_acc: 0.4521\n",
      "Epoch 7/300\n",
      "11/11 [==============================] - 3s 302ms/step - loss: 0.0578 - acc: 0.9897 - val_loss: 1.2071 - val_acc: 0.4502\n",
      "Epoch 8/300\n",
      "11/11 [==============================] - 3s 289ms/step - loss: 0.0481 - acc: 0.9918 - val_loss: 1.2081 - val_acc: 0.4502\n",
      "Epoch 9/300\n",
      "11/11 [==============================] - 3s 298ms/step - loss: 0.0456 - acc: 0.9901 - val_loss: 1.2181 - val_acc: 0.4502\n",
      "Epoch 10/300\n",
      "11/11 [==============================] - 3s 288ms/step - loss: 0.0410 - acc: 0.9909 - val_loss: 1.2335 - val_acc: 0.4498\n",
      "Epoch 11/300\n",
      "11/11 [==============================] - 3s 287ms/step - loss: 0.0390 - acc: 0.9914 - val_loss: 1.2452 - val_acc: 0.4506\n",
      "Epoch 12/300\n",
      "11/11 [==============================] - 3s 296ms/step - loss: 0.0371 - acc: 0.9897 - val_loss: 1.2560 - val_acc: 0.4517\n",
      "Epoch 13/300\n",
      "11/11 [==============================] - 3s 300ms/step - loss: 0.0358 - acc: 0.9910 - val_loss: 1.2675 - val_acc: 0.4529\n",
      "Epoch 14/300\n",
      "11/11 [==============================] - 3s 296ms/step - loss: 0.0355 - acc: 0.9897 - val_loss: 1.2750 - val_acc: 0.4563\n",
      "Epoch 15/300\n",
      "11/11 [==============================] - 3s 289ms/step - loss: 0.0321 - acc: 0.9903 - val_loss: 1.2869 - val_acc: 0.4589\n",
      "Epoch 16/300\n",
      "11/11 [==============================] - 3s 289ms/step - loss: 0.0344 - acc: 0.9910 - val_loss: 1.2891 - val_acc: 0.4608\n",
      "Epoch 17/300\n",
      "11/11 [==============================] - 3s 295ms/step - loss: 0.0320 - acc: 0.9920 - val_loss: 1.2689 - val_acc: 0.4676\n",
      "Epoch 18/300\n",
      "11/11 [==============================] - 3s 297ms/step - loss: 0.0341 - acc: 0.9901 - val_loss: 1.2591 - val_acc: 0.4748\n",
      "Epoch 19/300\n",
      "11/11 [==============================] - 3s 315ms/step - loss: 0.0299 - acc: 0.9923 - val_loss: 1.2588 - val_acc: 0.4763\n",
      "Epoch 20/300\n",
      "11/11 [==============================] - 3s 311ms/step - loss: 0.0277 - acc: 0.9920 - val_loss: 1.2561 - val_acc: 0.4816\n",
      "Epoch 21/300\n",
      "11/11 [==============================] - 3s 296ms/step - loss: 0.0272 - acc: 0.9922 - val_loss: 1.2154 - val_acc: 0.4960\n",
      "Epoch 22/300\n",
      "11/11 [==============================] - 3s 292ms/step - loss: 0.0280 - acc: 0.9903 - val_loss: 1.1911 - val_acc: 0.5062\n",
      "Epoch 23/300\n",
      "11/11 [==============================] - 3s 296ms/step - loss: 0.0252 - acc: 0.9922 - val_loss: 1.1785 - val_acc: 0.5131\n",
      "Epoch 24/300\n",
      "11/11 [==============================] - 3s 294ms/step - loss: 0.0272 - acc: 0.9909 - val_loss: 1.1369 - val_acc: 0.5271\n",
      "Epoch 25/300\n",
      "11/11 [==============================] - 3s 299ms/step - loss: 0.0246 - acc: 0.9925 - val_loss: 1.0793 - val_acc: 0.5464\n",
      "Epoch 26/300\n",
      "11/11 [==============================] - 3s 284ms/step - loss: 0.0251 - acc: 0.9918 - val_loss: 1.0689 - val_acc: 0.5540\n",
      "Epoch 27/300\n",
      "11/11 [==============================] - 3s 289ms/step - loss: 0.0261 - acc: 0.9922 - val_loss: 1.0381 - val_acc: 0.5683\n",
      "Epoch 28/300\n",
      "11/11 [==============================] - 3s 295ms/step - loss: 0.0276 - acc: 0.9897 - val_loss: 0.9822 - val_acc: 0.5892\n",
      "Epoch 29/300\n",
      "11/11 [==============================] - 3s 288ms/step - loss: 0.0253 - acc: 0.9922 - val_loss: 0.9863 - val_acc: 0.5903\n",
      "Epoch 30/300\n",
      "11/11 [==============================] - 3s 300ms/step - loss: 0.0262 - acc: 0.9907 - val_loss: 0.9639 - val_acc: 0.6039\n",
      "Epoch 31/300\n",
      "11/11 [==============================] - 3s 287ms/step - loss: 0.0233 - acc: 0.9931 - val_loss: 0.9074 - val_acc: 0.6361\n",
      "Epoch 32/300\n",
      "11/11 [==============================] - 3s 290ms/step - loss: 0.0244 - acc: 0.9918 - val_loss: 0.8693 - val_acc: 0.6551\n",
      "Epoch 33/300\n",
      "11/11 [==============================] - 3s 304ms/step - loss: 0.0246 - acc: 0.9918 - val_loss: 0.8201 - val_acc: 0.6774\n",
      "Epoch 34/300\n",
      "11/11 [==============================] - 3s 288ms/step - loss: 0.0242 - acc: 0.9920 - val_loss: 0.7554 - val_acc: 0.7069\n",
      "Epoch 35/300\n",
      "11/11 [==============================] - 3s 288ms/step - loss: 0.0243 - acc: 0.9912 - val_loss: 0.7140 - val_acc: 0.7285\n",
      "Epoch 36/300\n",
      "11/11 [==============================] - 3s 297ms/step - loss: 0.0244 - acc: 0.9916 - val_loss: 0.6663 - val_acc: 0.7535\n",
      "Epoch 37/300\n",
      "11/11 [==============================] - 3s 289ms/step - loss: 0.0231 - acc: 0.9910 - val_loss: 0.6330 - val_acc: 0.7683\n",
      "Epoch 38/300\n",
      "11/11 [==============================] - 3s 296ms/step - loss: 0.0231 - acc: 0.9909 - val_loss: 0.5879 - val_acc: 0.7864\n",
      "Epoch 39/300\n",
      "11/11 [==============================] - 3s 291ms/step - loss: 0.0230 - acc: 0.9922 - val_loss: 0.5646 - val_acc: 0.7986\n",
      "Epoch 40/300\n",
      "11/11 [==============================] - 3s 281ms/step - loss: 0.0251 - acc: 0.9909 - val_loss: 0.5192 - val_acc: 0.8167\n",
      "Epoch 41/300\n",
      "11/11 [==============================] - 3s 285ms/step - loss: 0.0234 - acc: 0.9909 - val_loss: 0.4856 - val_acc: 0.8300\n",
      "Epoch 42/300\n",
      "11/11 [==============================] - 3s 287ms/step - loss: 0.0230 - acc: 0.9927 - val_loss: 0.4848 - val_acc: 0.8307\n",
      "Epoch 43/300\n",
      "11/11 [==============================] - 3s 283ms/step - loss: 0.0239 - acc: 0.9914 - val_loss: 0.4542 - val_acc: 0.8429\n",
      "Epoch 44/300\n",
      "11/11 [==============================] - 3s 281ms/step - loss: 0.0233 - acc: 0.9907 - val_loss: 0.4426 - val_acc: 0.8501\n",
      "Epoch 45/300\n",
      "11/11 [==============================] - 3s 282ms/step - loss: 0.0231 - acc: 0.9916 - val_loss: 0.4231 - val_acc: 0.8618\n",
      "Epoch 46/300\n",
      "11/11 [==============================] - 3s 283ms/step - loss: 0.0228 - acc: 0.9920 - val_loss: 0.3949 - val_acc: 0.8732\n",
      "Epoch 47/300\n",
      "11/11 [==============================] - 3s 282ms/step - loss: 0.0226 - acc: 0.9918 - val_loss: 0.4112 - val_acc: 0.8682\n",
      "Epoch 48/300\n",
      "11/11 [==============================] - 3s 282ms/step - loss: 0.0229 - acc: 0.9927 - val_loss: 0.3870 - val_acc: 0.8769\n",
      "Epoch 49/300\n",
      "11/11 [==============================] - 3s 284ms/step - loss: 0.0212 - acc: 0.9922 - val_loss: 0.3684 - val_acc: 0.8834\n",
      "Epoch 50/300\n",
      "11/11 [==============================] - 3s 282ms/step - loss: 0.0228 - acc: 0.9907 - val_loss: 0.3594 - val_acc: 0.8883\n",
      "Epoch 51/300\n",
      "11/11 [==============================] - 3s 283ms/step - loss: 0.0237 - acc: 0.9912 - val_loss: 0.3518 - val_acc: 0.8940\n",
      "Epoch 52/300\n",
      "11/11 [==============================] - 3s 286ms/step - loss: 0.0204 - acc: 0.9923 - val_loss: 0.3583 - val_acc: 0.8936\n",
      "Epoch 53/300\n",
      "11/11 [==============================] - 3s 284ms/step - loss: 0.0222 - acc: 0.9909 - val_loss: 0.3633 - val_acc: 0.8913\n",
      "Epoch 54/300\n",
      "11/11 [==============================] - 3s 280ms/step - loss: 0.0222 - acc: 0.9918 - val_loss: 0.3457 - val_acc: 0.8985\n",
      "Epoch 55/300\n",
      "11/11 [==============================] - 3s 283ms/step - loss: 0.0223 - acc: 0.9925 - val_loss: 0.3379 - val_acc: 0.9031\n",
      "Epoch 56/300\n",
      "11/11 [==============================] - 3s 284ms/step - loss: 0.0239 - acc: 0.9909 - val_loss: 0.3305 - val_acc: 0.9069\n",
      "Epoch 57/300\n",
      "11/11 [==============================] - 3s 283ms/step - loss: 0.0222 - acc: 0.9909 - val_loss: 0.3322 - val_acc: 0.9076\n",
      "Epoch 58/300\n",
      "11/11 [==============================] - 3s 284ms/step - loss: 0.0202 - acc: 0.9927 - val_loss: 0.3313 - val_acc: 0.9084\n",
      "Epoch 59/300\n",
      "11/11 [==============================] - 3s 282ms/step - loss: 0.0214 - acc: 0.9923 - val_loss: 0.3276 - val_acc: 0.9091\n",
      "Epoch 60/300\n",
      "11/11 [==============================] - 3s 282ms/step - loss: 0.0196 - acc: 0.9914 - val_loss: 0.3317 - val_acc: 0.9087\n",
      "Epoch 61/300\n",
      "11/11 [==============================] - 3s 281ms/step - loss: 0.0212 - acc: 0.9916 - val_loss: 0.3242 - val_acc: 0.9125\n",
      "Epoch 62/300\n"
     ]
    },
    {
     "name": "stdout",
     "output_type": "stream",
     "text": [
      "11/11 [==============================] - 3s 288ms/step - loss: 0.0192 - acc: 0.9938 - val_loss: 0.3217 - val_acc: 0.9159\n",
      "Epoch 63/300\n",
      "11/11 [==============================] - 3s 282ms/step - loss: 0.0209 - acc: 0.9920 - val_loss: 0.3253 - val_acc: 0.9152\n",
      "Epoch 64/300\n",
      "11/11 [==============================] - 3s 282ms/step - loss: 0.0196 - acc: 0.9925 - val_loss: 0.3431 - val_acc: 0.9095\n",
      "Epoch 65/300\n",
      "11/11 [==============================] - 3s 281ms/step - loss: 0.0206 - acc: 0.9903 - val_loss: 0.3266 - val_acc: 0.9148\n",
      "Epoch 66/300\n",
      "11/11 [==============================] - 3s 283ms/step - loss: 0.0222 - acc: 0.9909 - val_loss: 0.3209 - val_acc: 0.9171\n",
      "Epoch 67/300\n",
      "11/11 [==============================] - 3s 281ms/step - loss: 0.0199 - acc: 0.9914 - val_loss: 0.3320 - val_acc: 0.9148\n",
      "Epoch 68/300\n",
      "11/11 [==============================] - 3s 281ms/step - loss: 0.0209 - acc: 0.9916 - val_loss: 0.3278 - val_acc: 0.9159\n",
      "Epoch 69/300\n",
      "11/11 [==============================] - 3s 281ms/step - loss: 0.0220 - acc: 0.9905 - val_loss: 0.3336 - val_acc: 0.9159\n",
      "Epoch 70/300\n",
      "11/11 [==============================] - 3s 283ms/step - loss: 0.0199 - acc: 0.9910 - val_loss: 0.3279 - val_acc: 0.9167\n",
      "Epoch 71/300\n",
      "11/11 [==============================] - 3s 282ms/step - loss: 0.0202 - acc: 0.9927 - val_loss: 0.3263 - val_acc: 0.9178\n",
      "Epoch 72/300\n",
      "11/11 [==============================] - 3s 290ms/step - loss: 0.0223 - acc: 0.9909 - val_loss: 0.3259 - val_acc: 0.9190\n"
     ]
    }
   ],
   "source": [
    "basic_callbacks2 = [\n",
    "    tf.keras.callbacks.EarlyStopping(monitor='loss', patience=10)\n",
    "            ]\n",
    "basic_model2 = create_model(x_train.shape[1], 5, 1e-3)\n",
    "basic_history2 = basic_model2.fit(x_train.toarray(),\n",
    "                   y_train,\n",
    "                   epochs=300,\n",
    "                   callbacks=basic_callbacks2,\n",
    "                   verbose=1,\n",
    "                   validation_split=0.33,\n",
    "                   batch_size=512)"
   ]
  },
  {
   "cell_type": "code",
   "execution_count": 30,
   "id": "79244458",
   "metadata": {},
   "outputs": [
    {
     "name": "stdout",
     "output_type": "stream",
     "text": [
      "63/63 [==============================] - 1s 13ms/step\n"
     ]
    }
   ],
   "source": [
    "basic_prediction2 = basic_model2.predict(x_test.toarray())\n",
    "basic_pred2 = np.argmax(basic_prediction2,axis =1)\n",
    "r_b = (basic_pred2 == y_test).mean()"
   ]
  },
  {
   "cell_type": "code",
   "execution_count": 31,
   "id": "289abf21",
   "metadata": {},
   "outputs": [
    {
     "data": {
      "text/plain": [
       "0.854"
      ]
     },
     "execution_count": 31,
     "metadata": {},
     "output_type": "execute_result"
    }
   ],
   "source": [
    "r_b"
   ]
  },
  {
   "cell_type": "code",
   "execution_count": 32,
   "id": "f884e67a",
   "metadata": {},
   "outputs": [
    {
     "name": "stdout",
     "output_type": "stream",
     "text": [
      "<class 'pandas.core.frame.DataFrame'>\n",
      "RangeIndex: 10000 entries, 0 to 9999\n",
      "Data columns (total 2 columns):\n",
      " #   Column        Non-Null Count  Dtype \n",
      "---  ------        --------------  ----- \n",
      " 0   saleCmdtId    10000 non-null  object\n",
      " 1   chrcIntcCntt  8979 non-null   object\n",
      "dtypes: object(2)\n",
      "memory usage: 156.4+ KB\n"
     ]
    }
   ],
   "source": [
    "raw2 = pd.read_csv('../kyobo3.csv')\n",
    "raw2.info()"
   ]
  },
  {
   "cell_type": "code",
   "execution_count": 33,
   "id": "7d1077b0",
   "metadata": {},
   "outputs": [],
   "source": [
    "raw2.fillna('NAN', inplace=True)"
   ]
  },
  {
   "cell_type": "code",
   "execution_count": 34,
   "id": "51bb0490",
   "metadata": {},
   "outputs": [
    {
     "data": {
      "text/html": [
       "<div>\n",
       "<style scoped>\n",
       "    .dataframe tbody tr th:only-of-type {\n",
       "        vertical-align: middle;\n",
       "    }\n",
       "\n",
       "    .dataframe tbody tr th {\n",
       "        vertical-align: top;\n",
       "    }\n",
       "\n",
       "    .dataframe thead th {\n",
       "        text-align: right;\n",
       "    }\n",
       "</style>\n",
       "<table border=\"1\" class=\"dataframe\">\n",
       "  <thead>\n",
       "    <tr style=\"text-align: right;\">\n",
       "      <th></th>\n",
       "      <th>saleCmdtId</th>\n",
       "      <th>cmdtName</th>\n",
       "      <th>inbukCntt</th>\n",
       "      <th>saleCmdtClstName</th>\n",
       "      <th>chrcIntcCntt</th>\n",
       "    </tr>\n",
       "  </thead>\n",
       "  <tbody>\n",
       "    <tr>\n",
       "      <th>0</th>\n",
       "      <td>S000000033706</td>\n",
       "      <td>OYO 카드(소)</td>\n",
       "      <td>『성경암송 구절 기록 카드』는 성경의 구절을 암송할 수 있도록 구성하였다. 빈카드 ...</td>\n",
       "      <td>2</td>\n",
       "      <td>NAN</td>\n",
       "    </tr>\n",
       "    <tr>\n",
       "      <th>1</th>\n",
       "      <td>S000000332556</td>\n",
       "      <td>다면체 종이접기</td>\n",
       "      <td>다면체 종이접기를 하면 두뇌개발과 예술적 감각이 향상되고 자기효능감이 높아져요!\\r...</td>\n",
       "      <td>2</td>\n",
       "      <td>오랫동안 어린이 친구들을 위한 만화 시나리오를 써 왔다. 쓴 책으로는 《도티&amp;잠뜰:...</td>\n",
       "    </tr>\n",
       "    <tr>\n",
       "      <th>2</th>\n",
       "      <td>S000000332557</td>\n",
       "      <td>블레이드 종이접기</td>\n",
       "      <td>「블레이드 종이접기」는 종이문화재단 세계종이접기창작개발원 서원선 원장님이 어린이들을...</td>\n",
       "      <td>2</td>\n",
       "      <td>한국종이접기협회 창작개발위원장 및 이사, 한국창작종이문화원 원장을 역임했다. 일본 ...</td>\n",
       "    </tr>\n",
       "    <tr>\n",
       "      <th>3</th>\n",
       "      <td>S000000339989</td>\n",
       "      <td>하나님의 자녀가 되고 싶으세요?</td>\n",
       "      <td>『하나님의 자녀가 되고 싶으세요?』는 〈하나님은 여러분을 사랑하시며 여러분을 위한 ...</td>\n",
       "      <td>2</td>\n",
       "      <td>NAN</td>\n",
       "    </tr>\n",
       "    <tr>\n",
       "      <th>4</th>\n",
       "      <td>S000000347099</td>\n",
       "      <td>흔한남매 유튜브 연습장</td>\n",
       "      <td>구독자 수 185만 명 돌파! ‘흔한남매’를 사랑하는 냐하들은 아주아주 많습니다. ...</td>\n",
       "      <td>2</td>\n",
       "      <td>NAN</td>\n",
       "    </tr>\n",
       "    <tr>\n",
       "      <th>...</th>\n",
       "      <td>...</td>\n",
       "      <td>...</td>\n",
       "      <td>...</td>\n",
       "      <td>...</td>\n",
       "      <td>...</td>\n",
       "    </tr>\n",
       "    <tr>\n",
       "      <th>9995</th>\n",
       "      <td>S000200602955</td>\n",
       "      <td>언제든지 스마일</td>\n",
       "      <td>중학교 도덕 교과서 수록 《류명성 통일빵집》의 작가 박경희의 첫 역사소설!\\n중학교...</td>\n",
       "      <td>1</td>\n",
       "      <td>출간작으로 『속도의 안내자』 등이 있다.</td>\n",
       "    </tr>\n",
       "    <tr>\n",
       "      <th>9996</th>\n",
       "      <td>S000200605951</td>\n",
       "      <td>인류 밖에서 찾은 완벽한 리더들</td>\n",
       "      <td>살아가는 데 필요한 모든 교양 지식을 한데 모았다! 대한민국 대표 교수진이 펼치는 ...</td>\n",
       "      <td>3</td>\n",
       "      <td>한국외국어대학교 프랑스어과 박사 과정을 수료하고 한국외국어대학교, 강원대학교, 상명...</td>\n",
       "    </tr>\n",
       "    <tr>\n",
       "      <th>9997</th>\n",
       "      <td>S000200606066</td>\n",
       "      <td>서울을 팔고 도쿄를 샀습니다</td>\n",
       "      <td>‘조물주 위에 건물주’라는 말이 유행어가 될 만큼 우리나라에서 부동산, 그것도 건물...</td>\n",
       "      <td>0</td>\n",
       "      <td>936년 경상북도 대구 출생. 1956년 경기고등학교 졸업. 1960년 연세대 상경...</td>\n",
       "    </tr>\n",
       "    <tr>\n",
       "      <th>9998</th>\n",
       "      <td>S000200606093</td>\n",
       "      <td>무조건 합격하는 암기의 기술</td>\n",
       "      <td>시험공부를 하는 사람에게 암기는 필수다. 합격을 위해 방대한 양의 공부를 해야 하고...</td>\n",
       "      <td>4</td>\n",
       "      <td>일본의 세계적인 기업가로 일본에서 가장 존경받는 경영자 중 한 사람이자 살아있는 ‘...</td>\n",
       "    </tr>\n",
       "    <tr>\n",
       "      <th>9999</th>\n",
       "      <td>S000200606385</td>\n",
       "      <td>정원의 기억</td>\n",
       "      <td>굵직굵직한 정원 프로젝트를 성공적으로 이끌며, 정원 문화의 저변을 넓히는 책들을 꾸...</td>\n",
       "      <td>3</td>\n",
       "      <td>1933년 충남 아산에서 태어났으며, 호는 능소(凌宵)이다. 서울대학교 문리과대학 ...</td>\n",
       "    </tr>\n",
       "  </tbody>\n",
       "</table>\n",
       "<p>10000 rows × 5 columns</p>\n",
       "</div>"
      ],
      "text/plain": [
       "         saleCmdtId           cmdtName  \\\n",
       "0     S000000033706          OYO 카드(소)   \n",
       "1     S000000332556           다면체 종이접기   \n",
       "2     S000000332557          블레이드 종이접기   \n",
       "3     S000000339989  하나님의 자녀가 되고 싶으세요?   \n",
       "4     S000000347099       흔한남매 유튜브 연습장   \n",
       "...             ...                ...   \n",
       "9995  S000200602955           언제든지 스마일   \n",
       "9996  S000200605951  인류 밖에서 찾은 완벽한 리더들   \n",
       "9997  S000200606066    서울을 팔고 도쿄를 샀습니다   \n",
       "9998  S000200606093    무조건 합격하는 암기의 기술   \n",
       "9999  S000200606385             정원의 기억   \n",
       "\n",
       "                                              inbukCntt  saleCmdtClstName  \\\n",
       "0     『성경암송 구절 기록 카드』는 성경의 구절을 암송할 수 있도록 구성하였다. 빈카드 ...                 2   \n",
       "1     다면체 종이접기를 하면 두뇌개발과 예술적 감각이 향상되고 자기효능감이 높아져요!\\r...                 2   \n",
       "2     「블레이드 종이접기」는 종이문화재단 세계종이접기창작개발원 서원선 원장님이 어린이들을...                 2   \n",
       "3     『하나님의 자녀가 되고 싶으세요?』는 〈하나님은 여러분을 사랑하시며 여러분을 위한 ...                 2   \n",
       "4     구독자 수 185만 명 돌파! ‘흔한남매’를 사랑하는 냐하들은 아주아주 많습니다. ...                 2   \n",
       "...                                                 ...               ...   \n",
       "9995  중학교 도덕 교과서 수록 《류명성 통일빵집》의 작가 박경희의 첫 역사소설!\\n중학교...                 1   \n",
       "9996  살아가는 데 필요한 모든 교양 지식을 한데 모았다! 대한민국 대표 교수진이 펼치는 ...                 3   \n",
       "9997  ‘조물주 위에 건물주’라는 말이 유행어가 될 만큼 우리나라에서 부동산, 그것도 건물...                 0   \n",
       "9998  시험공부를 하는 사람에게 암기는 필수다. 합격을 위해 방대한 양의 공부를 해야 하고...                 4   \n",
       "9999  굵직굵직한 정원 프로젝트를 성공적으로 이끌며, 정원 문화의 저변을 넓히는 책들을 꾸...                 3   \n",
       "\n",
       "                                           chrcIntcCntt  \n",
       "0                                                   NAN  \n",
       "1     오랫동안 어린이 친구들을 위한 만화 시나리오를 써 왔다. 쓴 책으로는 《도티&잠뜰:...  \n",
       "2     한국종이접기협회 창작개발위원장 및 이사, 한국창작종이문화원 원장을 역임했다. 일본 ...  \n",
       "3                                                   NAN  \n",
       "4                                                   NAN  \n",
       "...                                                 ...  \n",
       "9995                             출간작으로 『속도의 안내자』 등이 있다.  \n",
       "9996  한국외국어대학교 프랑스어과 박사 과정을 수료하고 한국외국어대학교, 강원대학교, 상명...  \n",
       "9997  936년 경상북도 대구 출생. 1956년 경기고등학교 졸업. 1960년 연세대 상경...  \n",
       "9998  일본의 세계적인 기업가로 일본에서 가장 존경받는 경영자 중 한 사람이자 살아있는 ‘...  \n",
       "9999  1933년 충남 아산에서 태어났으며, 호는 능소(凌宵)이다. 서울대학교 문리과대학 ...  \n",
       "\n",
       "[10000 rows x 5 columns]"
      ]
     },
     "execution_count": 34,
     "metadata": {},
     "output_type": "execute_result"
    }
   ],
   "source": [
    "raw_ = raw.sort_values('saleCmdtId')\n",
    "raw_['chrcIntcCntt'] = raw2.sort_values('saleCmdtId')['chrcIntcCntt']\n",
    "raw_.reset_index(drop=True, inplace=True)\n",
    "raw_"
   ]
  },
  {
   "cell_type": "code",
   "execution_count": 35,
   "id": "a2909c5f",
   "metadata": {},
   "outputs": [
    {
     "data": {
      "text/html": [
       "<div>\n",
       "<style scoped>\n",
       "    .dataframe tbody tr th:only-of-type {\n",
       "        vertical-align: middle;\n",
       "    }\n",
       "\n",
       "    .dataframe tbody tr th {\n",
       "        vertical-align: top;\n",
       "    }\n",
       "\n",
       "    .dataframe thead th {\n",
       "        text-align: right;\n",
       "    }\n",
       "</style>\n",
       "<table border=\"1\" class=\"dataframe\">\n",
       "  <thead>\n",
       "    <tr style=\"text-align: right;\">\n",
       "      <th></th>\n",
       "      <th>data</th>\n",
       "      <th>saleCmdtClstName</th>\n",
       "    </tr>\n",
       "  </thead>\n",
       "  <tbody>\n",
       "    <tr>\n",
       "      <th>0</th>\n",
       "      <td>카드소성경암송 구절 기록 카드는 성경의 구절을 암송할 수 있도록 구성하였다 빈카드...</td>\n",
       "      <td>2</td>\n",
       "    </tr>\n",
       "    <tr>\n",
       "      <th>1</th>\n",
       "      <td>다면체 종이접기다면체 종이접기를 하면 두뇌개발과 예술적 감각이 향상되고 자기효능감이...</td>\n",
       "      <td>2</td>\n",
       "    </tr>\n",
       "    <tr>\n",
       "      <th>2</th>\n",
       "      <td>블레이드 종이접기블레이드 종이접기는 종이문화재단 세계종이접기창작개발원 서원선 원장님...</td>\n",
       "      <td>2</td>\n",
       "    </tr>\n",
       "    <tr>\n",
       "      <th>3</th>\n",
       "      <td>하나님의 자녀가 되고 싶으세요하나님의 자녀가 되고 싶으세요는 하나님은 여러분을 사랑...</td>\n",
       "      <td>2</td>\n",
       "    </tr>\n",
       "    <tr>\n",
       "      <th>4</th>\n",
       "      <td>흔한남매 유튜브 연습장구독자 수 만 명 돌파 흔한남매를 사랑하는 냐하들은 아주아주 ...</td>\n",
       "      <td>2</td>\n",
       "    </tr>\n",
       "    <tr>\n",
       "      <th>...</th>\n",
       "      <td>...</td>\n",
       "      <td>...</td>\n",
       "    </tr>\n",
       "    <tr>\n",
       "      <th>9995</th>\n",
       "      <td>언제든지 스마일중학교 도덕 교과서 수록 류명성 통일빵집의 작가 박경희의 첫 역사소설...</td>\n",
       "      <td>1</td>\n",
       "    </tr>\n",
       "    <tr>\n",
       "      <th>9996</th>\n",
       "      <td>인류 밖에서 찾은 완벽한 리더들살아가는 데 필요한 모든 교양 지식을 한데 모았다 대...</td>\n",
       "      <td>3</td>\n",
       "    </tr>\n",
       "    <tr>\n",
       "      <th>9997</th>\n",
       "      <td>서울을 팔고 도쿄를 샀습니다조물주 위에 건물주라는 말이 유행어가 될 만큼 우리나라에...</td>\n",
       "      <td>0</td>\n",
       "    </tr>\n",
       "    <tr>\n",
       "      <th>9998</th>\n",
       "      <td>무조건 합격하는 암기의 기술시험공부를 하는 사람에게 암기는 필수다 합격을 위해 방대...</td>\n",
       "      <td>4</td>\n",
       "    </tr>\n",
       "    <tr>\n",
       "      <th>9999</th>\n",
       "      <td>정원의 기억굵직굵직한 정원 프로젝트를 성공적으로 이끌며 정원 문화의 저변을 넓히는 ...</td>\n",
       "      <td>3</td>\n",
       "    </tr>\n",
       "  </tbody>\n",
       "</table>\n",
       "<p>10000 rows × 2 columns</p>\n",
       "</div>"
      ],
      "text/plain": [
       "                                                   data  saleCmdtClstName\n",
       "0      카드소성경암송 구절 기록 카드는 성경의 구절을 암송할 수 있도록 구성하였다 빈카드...                 2\n",
       "1     다면체 종이접기다면체 종이접기를 하면 두뇌개발과 예술적 감각이 향상되고 자기효능감이...                 2\n",
       "2     블레이드 종이접기블레이드 종이접기는 종이문화재단 세계종이접기창작개발원 서원선 원장님...                 2\n",
       "3     하나님의 자녀가 되고 싶으세요하나님의 자녀가 되고 싶으세요는 하나님은 여러분을 사랑...                 2\n",
       "4     흔한남매 유튜브 연습장구독자 수 만 명 돌파 흔한남매를 사랑하는 냐하들은 아주아주 ...                 2\n",
       "...                                                 ...               ...\n",
       "9995  언제든지 스마일중학교 도덕 교과서 수록 류명성 통일빵집의 작가 박경희의 첫 역사소설...                 1\n",
       "9996  인류 밖에서 찾은 완벽한 리더들살아가는 데 필요한 모든 교양 지식을 한데 모았다 대...                 3\n",
       "9997  서울을 팔고 도쿄를 샀습니다조물주 위에 건물주라는 말이 유행어가 될 만큼 우리나라에...                 0\n",
       "9998  무조건 합격하는 암기의 기술시험공부를 하는 사람에게 암기는 필수다 합격을 위해 방대...                 4\n",
       "9999  정원의 기억굵직굵직한 정원 프로젝트를 성공적으로 이끌며 정원 문화의 저변을 넓히는 ...                 3\n",
       "\n",
       "[10000 rows x 2 columns]"
      ]
     },
     "execution_count": 35,
     "metadata": {},
     "output_type": "execute_result"
    }
   ],
   "source": [
    "raw_['data'] = raw_['cmdtName'] + raw_['inbukCntt'] + raw_['chrcIntcCntt']\n",
    "raw_['data'] = raw_['data'].apply(lambda x : re.sub(\"[^가-힣ㄱ-하-ㅣ\\s]\",\"\",x))\n",
    "raw_['data'] = raw_['data'].apply(lambda x : re.sub(\"\\n\",\" \",x))\n",
    "raw_ = raw_[['data', 'saleCmdtClstName']]\n",
    "raw_"
   ]
  },
  {
   "cell_type": "code",
   "execution_count": 36,
   "id": "77b17181",
   "metadata": {},
   "outputs": [],
   "source": [
    "X_train, X_test, y_train, y_test = train_test_split(raw_.iloc[:,0], raw_.iloc[:,-1] ,\n",
    "                                                   test_size=0.2,\n",
    "                                                   random_state=2022)"
   ]
  },
  {
   "cell_type": "code",
   "execution_count": 37,
   "id": "9ffcac8c",
   "metadata": {},
   "outputs": [
    {
     "data": {
      "text/plain": [
       "210.0"
      ]
     },
     "execution_count": 37,
     "metadata": {},
     "output_type": "execute_result"
    }
   ],
   "source": [
    "get_num_words_per_sample(X_train)"
   ]
  },
  {
   "cell_type": "code",
   "execution_count": 38,
   "id": "76e53497",
   "metadata": {},
   "outputs": [
    {
     "data": {
      "image/png": "[encoded data removed]",
      "text/plain": [
       "<Figure size 640x480 with 1 Axes>"
      ]
     },
     "metadata": {},
     "output_type": "display_data"
    }
   ],
   "source": [
    "plot_sample_length_distribution(X_train)"
   ]
  },
  {
   "cell_type": "code",
   "execution_count": 39,
   "id": "0f88c298",
   "metadata": {},
   "outputs": [],
   "source": [
    "def train_ngram_vectorize():\n",
    "    kwargs = {\n",
    "        'ngram_range' : Ngram_range,\n",
    "        'dtype' : 'int32',\n",
    "        'strip_accents' : False,\n",
    "        'lowercase' : False,\n",
    "        'decode_error' : 'replace',\n",
    "        'analyzer' : token_mode,\n",
    "        'min_df' : min_document_freq,\n",
    "        \n",
    "    }\n",
    "    \n",
    "    vectorizer = TfidfVectorizer(**kwargs)\n",
    "    \n",
    "    x_train = vectorizer.fit_transform(X_train)\n",
    "    x_test = vectorizer.transform(X_test)\n",
    "    \n",
    "    selector = SelectKBest(f_classif, k=min(top_k, x_train.shape[1]))\n",
    "    selector.fit(x_train, y_train.values)\n",
    "    \n",
    "    x_train = selector.transform(x_train).astype('float32')\n",
    "    x_test = selector.transform(x_test).astype('float32')\n",
    "    \n",
    "    return x_train, x_test\n",
    "\n",
    "x_train, x_test = train_ngram_vectorize()"
   ]
  },
  {
   "cell_type": "code",
   "execution_count": 40,
   "id": "dcc70a82",
   "metadata": {
    "scrolled": true
   },
   "outputs": [
    {
     "name": "stdout",
     "output_type": "stream",
     "text": [
      "Epoch 1/300\n",
      "11/11 [==============================] - 5s 316ms/step - loss: 1.0691 - acc: 0.6341 - val_loss: 1.5577 - val_acc: 0.6937\n",
      "Epoch 2/300\n",
      "11/11 [==============================] - 3s 287ms/step - loss: 0.3987 - acc: 0.9246 - val_loss: 1.4549 - val_acc: 0.6134\n",
      "Epoch 3/300\n",
      "11/11 [==============================] - 3s 284ms/step - loss: 0.2077 - acc: 0.9677 - val_loss: 1.3478 - val_acc: 0.5441\n",
      "Epoch 4/300\n",
      "11/11 [==============================] - 3s 286ms/step - loss: 0.1275 - acc: 0.9808 - val_loss: 1.2668 - val_acc: 0.4934\n",
      "Epoch 5/300\n",
      "11/11 [==============================] - 3s 285ms/step - loss: 0.0889 - acc: 0.9869 - val_loss: 1.2119 - val_acc: 0.4684\n",
      "Epoch 6/300\n",
      "11/11 [==============================] - 3s 290ms/step - loss: 0.0661 - acc: 0.9901 - val_loss: 1.1785 - val_acc: 0.4585\n",
      "Epoch 7/300\n",
      "11/11 [==============================] - 3s 282ms/step - loss: 0.0515 - acc: 0.9927 - val_loss: 1.1619 - val_acc: 0.4555\n",
      "Epoch 8/300\n",
      "11/11 [==============================] - 3s 286ms/step - loss: 0.0439 - acc: 0.9937 - val_loss: 1.1555 - val_acc: 0.4517\n",
      "Epoch 9/300\n",
      "11/11 [==============================] - 3s 284ms/step - loss: 0.0375 - acc: 0.9957 - val_loss: 1.1512 - val_acc: 0.4521\n",
      "Epoch 10/300\n",
      "11/11 [==============================] - 3s 294ms/step - loss: 0.0350 - acc: 0.9948 - val_loss: 1.1420 - val_acc: 0.4593\n",
      "Epoch 11/300\n",
      "11/11 [==============================] - 3s 295ms/step - loss: 0.0293 - acc: 0.9953 - val_loss: 1.1338 - val_acc: 0.4691\n",
      "Epoch 12/300\n",
      "11/11 [==============================] - 3s 294ms/step - loss: 0.0258 - acc: 0.9963 - val_loss: 1.1211 - val_acc: 0.4771\n",
      "Epoch 13/300\n",
      "11/11 [==============================] - 3s 288ms/step - loss: 0.0240 - acc: 0.9968 - val_loss: 1.1036 - val_acc: 0.4873\n",
      "Epoch 14/300\n",
      "11/11 [==============================] - 3s 296ms/step - loss: 0.0228 - acc: 0.9974 - val_loss: 1.0784 - val_acc: 0.5017\n",
      "Epoch 15/300\n",
      "11/11 [==============================] - 3s 322ms/step - loss: 0.0217 - acc: 0.9965 - val_loss: 1.0519 - val_acc: 0.5195\n",
      "Epoch 16/300\n",
      "11/11 [==============================] - 4s 330ms/step - loss: 0.0188 - acc: 0.9972 - val_loss: 1.0188 - val_acc: 0.5403\n",
      "Epoch 17/300\n",
      "11/11 [==============================] - 3s 316ms/step - loss: 0.0176 - acc: 0.9965 - val_loss: 0.9957 - val_acc: 0.5524\n",
      "Epoch 18/300\n",
      "11/11 [==============================] - 3s 298ms/step - loss: 0.0176 - acc: 0.9970 - val_loss: 0.9746 - val_acc: 0.5649\n",
      "Epoch 19/300\n",
      "11/11 [==============================] - 3s 298ms/step - loss: 0.0163 - acc: 0.9972 - val_loss: 0.9528 - val_acc: 0.5786\n",
      "Epoch 20/300\n",
      "11/11 [==============================] - 3s 292ms/step - loss: 0.0162 - acc: 0.9963 - val_loss: 0.9251 - val_acc: 0.5979\n",
      "Epoch 21/300\n",
      "11/11 [==============================] - 3s 287ms/step - loss: 0.0148 - acc: 0.9972 - val_loss: 0.8967 - val_acc: 0.6066\n",
      "Epoch 22/300\n",
      "11/11 [==============================] - 3s 282ms/step - loss: 0.0149 - acc: 0.9966 - val_loss: 0.8682 - val_acc: 0.6206\n",
      "Epoch 23/300\n",
      "11/11 [==============================] - 3s 291ms/step - loss: 0.0150 - acc: 0.9974 - val_loss: 0.8317 - val_acc: 0.6433\n",
      "Epoch 24/300\n",
      "11/11 [==============================] - 3s 295ms/step - loss: 0.0133 - acc: 0.9972 - val_loss: 0.7948 - val_acc: 0.6641\n",
      "Epoch 25/300\n",
      "11/11 [==============================] - 3s 294ms/step - loss: 0.0120 - acc: 0.9978 - val_loss: 0.7622 - val_acc: 0.6838\n",
      "Epoch 26/300\n",
      "11/11 [==============================] - 3s 300ms/step - loss: 0.0136 - acc: 0.9974 - val_loss: 0.7298 - val_acc: 0.7012\n",
      "Epoch 27/300\n",
      "11/11 [==============================] - 3s 288ms/step - loss: 0.0086 - acc: 0.9981 - val_loss: 0.6951 - val_acc: 0.7217\n",
      "Epoch 28/300\n",
      "11/11 [==============================] - 3s 286ms/step - loss: 0.0116 - acc: 0.9978 - val_loss: 0.6570 - val_acc: 0.7418\n",
      "Epoch 29/300\n",
      "11/11 [==============================] - 3s 287ms/step - loss: 0.0100 - acc: 0.9981 - val_loss: 0.6259 - val_acc: 0.7558\n",
      "Epoch 30/300\n",
      "11/11 [==============================] - 3s 286ms/step - loss: 0.0083 - acc: 0.9978 - val_loss: 0.5954 - val_acc: 0.7739\n",
      "Epoch 31/300\n",
      "11/11 [==============================] - 3s 283ms/step - loss: 0.0079 - acc: 0.9985 - val_loss: 0.5657 - val_acc: 0.7853\n",
      "Epoch 32/300\n",
      "11/11 [==============================] - 3s 291ms/step - loss: 0.0096 - acc: 0.9976 - val_loss: 0.5367 - val_acc: 0.8039\n",
      "Epoch 33/300\n",
      "11/11 [==============================] - 3s 286ms/step - loss: 0.0085 - acc: 0.9979 - val_loss: 0.5119 - val_acc: 0.8145\n",
      "Epoch 34/300\n",
      "11/11 [==============================] - 3s 288ms/step - loss: 0.0086 - acc: 0.9979 - val_loss: 0.4850 - val_acc: 0.8273\n",
      "Epoch 35/300\n",
      "11/11 [==============================] - 3s 290ms/step - loss: 0.0071 - acc: 0.9978 - val_loss: 0.4697 - val_acc: 0.8357\n",
      "Epoch 36/300\n",
      "11/11 [==============================] - 3s 289ms/step - loss: 0.0083 - acc: 0.9983 - val_loss: 0.4480 - val_acc: 0.8459\n",
      "Epoch 37/300\n",
      "11/11 [==============================] - 3s 284ms/step - loss: 0.0077 - acc: 0.9983 - val_loss: 0.4238 - val_acc: 0.8580\n",
      "Epoch 38/300\n",
      "11/11 [==============================] - 3s 282ms/step - loss: 0.0085 - acc: 0.9976 - val_loss: 0.4064 - val_acc: 0.8644\n",
      "Epoch 39/300\n",
      "11/11 [==============================] - 3s 288ms/step - loss: 0.0054 - acc: 0.9987 - val_loss: 0.3955 - val_acc: 0.8694\n",
      "Epoch 40/300\n",
      "11/11 [==============================] - 3s 294ms/step - loss: 0.0062 - acc: 0.9987 - val_loss: 0.3850 - val_acc: 0.8709\n",
      "Epoch 41/300\n",
      "11/11 [==============================] - 3s 292ms/step - loss: 0.0058 - acc: 0.9985 - val_loss: 0.3762 - val_acc: 0.8766\n",
      "Epoch 42/300\n",
      "11/11 [==============================] - 3s 283ms/step - loss: 0.0074 - acc: 0.9983 - val_loss: 0.3690 - val_acc: 0.8811\n",
      "Epoch 43/300\n",
      "11/11 [==============================] - 3s 283ms/step - loss: 0.0067 - acc: 0.9976 - val_loss: 0.3605 - val_acc: 0.8841\n",
      "Epoch 44/300\n",
      "11/11 [==============================] - 3s 290ms/step - loss: 0.0070 - acc: 0.9981 - val_loss: 0.3569 - val_acc: 0.8872\n",
      "Epoch 45/300\n",
      "11/11 [==============================] - 3s 289ms/step - loss: 0.0064 - acc: 0.9981 - val_loss: 0.3532 - val_acc: 0.8906\n",
      "Epoch 46/300\n",
      "11/11 [==============================] - 3s 285ms/step - loss: 0.0066 - acc: 0.9989 - val_loss: 0.3417 - val_acc: 0.8947\n",
      "Epoch 47/300\n",
      "11/11 [==============================] - 3s 288ms/step - loss: 0.0078 - acc: 0.9983 - val_loss: 0.3397 - val_acc: 0.8966\n",
      "Epoch 48/300\n",
      "11/11 [==============================] - 3s 284ms/step - loss: 0.0070 - acc: 0.9974 - val_loss: 0.3404 - val_acc: 0.8985\n",
      "Epoch 49/300\n",
      "11/11 [==============================] - 3s 282ms/step - loss: 0.0083 - acc: 0.9983 - val_loss: 0.3351 - val_acc: 0.9008\n"
     ]
    }
   ],
   "source": [
    "new_callbacks = [\n",
    "    tf.keras.callbacks.EarlyStopping(monitor='loss', patience=10)\n",
    "            ]\n",
    "new_model = create_model(x_train.shape[1], 5, 1e-3)\n",
    "history = new_model.fit(x_train.toarray(),\n",
    "                   y_train,\n",
    "                   epochs=300,\n",
    "                   callbacks=new_callbacks,\n",
    "                   verbose=1,\n",
    "                   validation_split=0.33,\n",
    "                   batch_size=512)"
   ]
  },
  {
   "cell_type": "code",
   "execution_count": 41,
   "id": "0699c7bd",
   "metadata": {},
   "outputs": [
    {
     "name": "stdout",
     "output_type": "stream",
     "text": [
      "63/63 [==============================] - 1s 12ms/step\n"
     ]
    }
   ],
   "source": [
    "new_prediction = new_model.predict(x_test.toarray())\n",
    "new_pred = np.argmax(new_prediction,axis =1)\n",
    "r_c = (new_pred == y_test).mean()"
   ]
  },
  {
   "cell_type": "code",
   "execution_count": 42,
   "id": "9db2b7bb",
   "metadata": {},
   "outputs": [
    {
     "data": {
      "text/plain": [
       "0.887"
      ]
     },
     "execution_count": 42,
     "metadata": {},
     "output_type": "execute_result"
    }
   ],
   "source": [
    "r_c"
   ]
  },
  {
   "cell_type": "code",
   "execution_count": 43,
   "id": "aa065796",
   "metadata": {},
   "outputs": [
    {
     "data": {
      "image/png": "[encoded data removed]",
      "text/plain": [
       "<Figure size 640x480 with 1 Axes>"
      ]
     },
     "metadata": {},
     "output_type": "display_data"
    }
   ],
   "source": [
    "plt.plot(bsic_history.history['acc'])\n",
    "plt.plot(bsic_history.history['loss'])\n",
    "plt.title('Basic model accuracy and loss')\n",
    "plt.ylabel('accuracy, loss')\n",
    "plt.xlabel('epoch')\n",
    "# plt.savefig('./Basic model.png')\n",
    "plt.show()"
   ]
  },
  {
   "cell_type": "code",
   "execution_count": 44,
   "id": "16c25f57",
   "metadata": {},
   "outputs": [
    {
     "data": {
      "image/png": "[encoded data removed]",
      "text/plain": [
       "<Figure size 640x480 with 1 Axes>"
      ]
     },
     "metadata": {},
     "output_type": "display_data"
    },
    {
     "data": {
      "image/png": "[encoded data removed]",
      "text/plain": [
       "<Figure size 640x480 with 1 Axes>"
      ]
     },
     "metadata": {},
     "output_type": "display_data"
    }
   ],
   "source": [
    "plt.plot(basic_history2.history['acc'])\n",
    "plt.plot(basic_history2.history['val_acc'])\n",
    "plt.title('Basic model2 accuracy')\n",
    "plt.ylabel('accuracy')\n",
    "plt.xlabel('epoch')\n",
    "plt.legend(['train', 'val'], loc='upper left')\n",
    "# plt.savefig('./Basic2 acc model.png')\n",
    "plt.show()\n",
    "\n",
    "plt.plot(basic_history2.history['loss'])\n",
    "plt.plot(basic_history2.history['val_loss'])\n",
    "plt.title('Basic model2 loss')\n",
    "plt.ylabel('loss')\n",
    "plt.xlabel('epoch')\n",
    "plt.legend(['train', 'val'], loc='upper left')\n",
    "# plt.savefig('./Basic2 loss model.png')\n",
    "plt.show()"
   ]
  },
  {
   "cell_type": "code",
   "execution_count": 45,
   "id": "89e16d40",
   "metadata": {},
   "outputs": [
    {
     "data": {
      "image/png": "[encoded data removed]",
      "text/plain": [
       "<Figure size 640x480 with 1 Axes>"
      ]
     },
     "metadata": {},
     "output_type": "display_data"
    },
    {
     "data": {
      "image/png": "[encoded data removed]",
      "text/plain": [
       "<Figure size 640x480 with 1 Axes>"
      ]
     },
     "metadata": {},
     "output_type": "display_data"
    }
   ],
   "source": [
    "plt.plot(history.history['acc'])\n",
    "plt.plot(history.history['val_acc'])\n",
    "plt.title('New model accuracy')\n",
    "plt.ylabel('accuracy')\n",
    "plt.xlabel('epoch')\n",
    "plt.legend(['train', 'val'], loc='upper left')\n",
    "# plt.savefig('./New acc model.png')\n",
    "plt.show()\n",
    "\n",
    "plt.plot(history.history['loss'])\n",
    "plt.plot(history.history['val_loss'])\n",
    "plt.title('New model loss')\n",
    "plt.ylabel('loss')\n",
    "plt.xlabel('epoch')\n",
    "plt.legend(['train', 'val'], loc='upper left')\n",
    "# plt.savefig('./New loss model.png')\n",
    "plt.show()"
   ]
  },
  {
   "cell_type": "code",
   "execution_count": 46,
   "id": "6535db53",
   "metadata": {},
   "outputs": [
    {
     "data": {
      "image/png": "[encoded data removed]",
      "text/plain": [
       "<Figure size 640x480 with 1 Axes>"
      ]
     },
     "metadata": {},
     "output_type": "display_data"
    }
   ],
   "source": [
    "plt.plot(['Basic', 'Basic2', 'New'], [r_a, r_b, r_c])\n",
    "plt.xlabel('Model')\n",
    "plt.ylabel('Accuracy')\n",
    "plt.title('Model Comparison');\n",
    "# plt.savefig('./Model acc.png');"
   ]
  },
  {
   "cell_type": "code",
   "execution_count": null,
   "id": "ac9f8270",
   "metadata": {},
   "outputs": [],
   "source": []
  }
 ],
 "metadata": {
  "kernelspec": {
   "display_name": "Python 3 (ipykernel)",
   "language": "python",
   "name": "python3"
  },
  "language_info": {
   "codemirror_mode": {
    "name": "ipython",
    "version": 3
   },
   "file_extension": ".py",
   "mimetype": "text/x-python",
   "name": "python",
   "nbconvert_exporter": "python",
   "pygments_lexer": "ipython3",
   "version": "3.9.15"
  }
 },
 "nbformat": 4,
 "nbformat_minor": 5
}
